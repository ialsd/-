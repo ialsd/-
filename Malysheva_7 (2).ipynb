{
 "cells": [
  {
   "cell_type": "markdown",
   "id": "178a1e15",
   "metadata": {},
   "source": [
    "# Рабочая тетрадь 7\n",
    "## Теоретический материал – Нейронные сети\n",
    "\n",
    "Обучение персептрона\n",
    "\n",
    "Персептрон представляет собой элементарную часть нейронной сети. Одиночный персептрон является линейным бинарным классификатором. В этой лекции мы рассмотрим процедуру обучения персептрона для классификации данных. Поскольку персептрон представляет собой бинарный классификатор, то мы будем рассматривать лишь два класса.\n",
    "\n",
    "Пусть мы рассматриваем некоторое множество (конечное или бесконечное) n-мерных векторов, которые будем обозначать x=(x_1,x_2,...,x_n)\n",
    "\n",
    "Будем считать, что это множество разбивается на два класса, которые мы будем обозначать +1 и -1. Поэтому возникает задача построения функции, которая задана на нашем множестве векторов, и принимает значения в множестве {+1,-1}. В качестве такой функции может выступать персептрон. С алгебраической точки зрения персептрон состоит из вектора весов w=(w_0,w_1,w_2,...,w_n).\n",
    "\n",
    "При этом персептрон работает по формуле\n",
    "\n",
    "y=sign(w_0  + x_1 w_1  + x_2 w_2  + ...+ x_n w_n),\n",
    "\n",
    "где функция sign(t) равна +1, если t ≥ 0, и равна -1, если t < 0.\n",
    "Приведем алгоритм обучения персептрона. Пусть у нас есть набор обучающих данных {(x,d)}, где x - это различные вектора, а d из множества {+1,-1} указывает к какому классу относится наш вектор.\n",
    "\n",
    "\t1. Положим вектор весов w равным нулю.\n",
    "\t2. Повторять N раз следующие шаги:\n",
    "\t3. Для каждого тестового набора (x,d):\n",
    "\t4. Вычислить y = sign[(x,w)].\n",
    "\t5. Если yd < 0, то скорректировать веса w_0  = w_0  + ad,w_i  = w_i  + adx_i,i = 1,2,...,n. \n",
    "    \n",
    "Описанный алгоритм довольно легко программировать.\n"
   ]
  },
  {
   "cell_type": "markdown",
   "id": "1d0a33bd",
   "metadata": {},
   "source": [
    "### 1.1.1 Пример\n",
    "Рассмотрим программу обучения персептрона на языке Python. Сначала рассмотрим основной класс персептрона, который умеет учиться по тестовым данным.\n",
    "\n",
    "Начнем с описания объектов класса:"
   ]
  },
  {
   "cell_type": "code",
   "execution_count": 1,
   "id": "7d2f729b",
   "metadata": {},
   "outputs": [],
   "source": [
    "# класс, который реализует персептрон и его обучение\n",
    "class Perceptron:\n",
    "    def __init__(self, N):\n",
    "        # создать нулевые веса\n",
    "        self.w = list()\n",
    "        for i in range(N):\n",
    "            self.w.append(0)\n",
    "    # метод для вычисления значения персептрона\n",
    "    def calc(self, x):\n",
    "        res = 0\n",
    "        for i in range(len(self.w)):\n",
    "            res = res + self.w[i] * x[i]\n",
    "        return res\n",
    "    # пороговая ф-я активации персептрона\n",
    "    def sign(self, x):\n",
    "        if self.calc(x) > 0:\n",
    "            return 1\n",
    "        else:\n",
    "            return -1\n",
    "    # обучение на одном примере\n",
    "    def learn(self, la, x, y):\n",
    "        # обучаем только когда результат неверный\n",
    "        if y * self.calc(x) <= 0:\n",
    "            for i in range(len(self.w)):\n",
    "                self.w[i] = self.w[i] + la * y * x[i]\n",
    "    # обучение по всем данным T - кортеж примеров\n",
    "    def learning(self, la, T):\n",
    "        # цикл обучения\n",
    "        for n in range(100):\n",
    "            # обучение по всему набору примеров\n",
    "            for t in T:\n",
    "                self.learn(la, t[0], t[1])"
   ]
  },
  {
   "cell_type": "markdown",
   "id": "38ce52ca",
   "metadata": {},
   "source": [
    "В строке 25 мы осуществляем корректировку весов. Посмотрим, как учится и работает наш персептрон."
   ]
  },
  {
   "cell_type": "code",
   "execution_count": 2,
   "id": "63089f4b",
   "metadata": {},
   "outputs": [
    {
     "name": "stdout",
     "output_type": "stream",
     "text": [
      "[0.1, -0.1]\n",
      "-1\n",
      "1\n",
      "1\n",
      "-1\n"
     ]
    }
   ],
   "source": [
    "# создаем класс двумерного персептрона\n",
    "perceptron = Perceptron(2)\n",
    "la = 0.1 # константа обучения\n",
    "# создаем примеры\n",
    "T = list()\n",
    "T.append([[2,1], 1])\n",
    "T.append([[3,2], 1])\n",
    "T.append([[4,1], 1])\n",
    "T.append([[1,2], -1])\n",
    "T.append([[2,3], -1])\n",
    "T.append([[5,7], -1])\n",
    "perceptron.learning(la, T) # обучение персептрона\n",
    "print(perceptron.w) # печатаем веса\n",
    "# проверим работу на тестовых примерах\n",
    "print(perceptron.sign([1.5, 2]))\n",
    "print(perceptron.sign([3, 1.5]))\n",
    "print(perceptron.sign([5, 1]))\n",
    "print(perceptron.sign([5, 10]))"
   ]
  },
  {
   "cell_type": "markdown",
   "id": "6cf5c60b",
   "metadata": {},
   "source": [
    "Видим, что что наш персептрон отлично научился распознавать образы, относя к классу 1 те вектора, у которых первая компонента больше второй, и к классу -1 в противном случае. Хотя устройство персептронов довольно простое эти конструкции могут решать и практические задачи. Кроме того, из таких персептронов состоят нейронные сети."
   ]
  },
  {
   "attachments": {
    "%D0%B8%D0%B7%D0%BE%D0%B1%D1%80%D0%B0%D0%B6%D0%B5%D0%BD%D0%B8%D0%B5.png": {
     "image/png": "[encoded data removed]"
    }
   },
   "cell_type": "markdown",
   "id": "83b0e4ce",
   "metadata": {},
   "source": [
    "## Теоретический материал – Реализация нейронной сети на Python\n",
    "Нейронная сеть — это функциональная единица машинного или глубокого обучения. Она имитирует поведение человеческого мозга, поскольку основана на концепции биологических нейронных сетей.\n",
    "\n",
    "Наиболее распространенный тип нейронной сети, называемый многослойным персептроном (MLP), представляет собой функцию, которая отображает входные данные в выходные данные. MLP имеет один входной слой и один выходной слой. Между ними может быть один или несколько скрытых слоев. Входной слой имеет тот же набор нейронов, что и признаки. Скрытые слои также могут иметь более одного нейрона. Каждый нейрон представляет собой линейную функцию, к которой применяется функция активации для решения сложных задач. Выход каждого слоя подается в качестве входных данных для всех нейронов следующих слоев.\n",
    "\n",
    "Нейронные сети способны решать множество задач. В основном они состоят из таких компонентов:\n",
    "\n",
    "\tвходной слой (получение и передача данных);\n",
    "\tскрытый слой (вычисление);\n",
    "\tвыходной слой. Чтобы реализовать нейросеть, необходимо понимать, как ведут себя нейроны. Нейрон одновременно принимает несколько входов, обрабатывает эти данные и выдает один выход. Нейронная сеть представляет собой блоки ввода и вывода, где каждое соединение имеет соответствующие веса (это сила связи нейронов; чем вес больше, тем один нейрон сильнее влияет на другой). Данные всех входов умножаются на веса:\n",
    "\tx → x*w_1;\n",
    "\ty → y*w_2.\n",
    "\n",
    "Входы после взвешивания суммируются с прибавлением значения порога «c»:\n",
    "\n",
    "xw_1  + yw_2  + c\n",
    "\n",
    "Полученное значение пропускается через функцию активации (сигмоиду), которая преобразует входы в один выход:\n",
    "\n",
    "z =f(xw_1  + yw_2  + c).\n",
    "\n",
    "Так выглядит сигмоида:\n",
    "![%D0%B8%D0%B7%D0%BE%D0%B1%D1%80%D0%B0%D0%B6%D0%B5%D0%BD%D0%B8%D0%B5.png](attachment:%D0%B8%D0%B7%D0%BE%D0%B1%D1%80%D0%B0%D0%B6%D0%B5%D0%BD%D0%B8%D0%B5.png)\n",
    "\n",
    "Интервал результатов сигмоиды — от 0 до 1. Отрицательные числа стремятся к нулю, а положительные — к единице.\n",
    "\n",
    "Например. Пусть нейрон имеет следующие значения: w = [0,1] c = 4.\n",
    "Входной слой: x = 2,y = 3.\n",
    "\n",
    "((xw_1) + (yw_2)) + c = 20 + 31 + 4 = 7.\n",
    "z = f(7) = 0.99.\n"
   ]
  },
  {
   "cell_type": "markdown",
   "id": "cb76550a",
   "metadata": {},
   "source": [
    "### 1.1.2 Пример\n",
    "Для написания кода нейрона будем использовать библиотеку Pytnon — NumPy:"
   ]
  },
  {
   "cell_type": "code",
   "execution_count": 3,
   "id": "f6929e9e",
   "metadata": {},
   "outputs": [
    {
     "name": "stdout",
     "output_type": "stream",
     "text": [
      "0.9990889488055994\n"
     ]
    }
   ],
   "source": [
    "import numpy as np\n",
    "def sigmoid(x):\n",
    "    # ф-я активации: f(x) = 1 / (1 + e^(-x))\n",
    "    return 1 / (1 + np.exp(-x))\n",
    "\n",
    "def sigmoid_derivative(x):\n",
    "    return sigmoid(x) * (1 - sigmoid(x))\n",
    "\n",
    "class Neuron:\n",
    "    def __init__(self, weights, bias):\n",
    "        self.weights = weights\n",
    "        self.bias = bias\n",
    "    def feedforward(self, inputs):\n",
    "        total = np.dot(self.weights, inputs) + self.bias\n",
    "        return sigmoid(total)\n",
    "    \n",
    "weights = np.array([0, 1]) # w1 = 0, w2 = 1\n",
    "bias = 4 # c = 4\n",
    "n = Neuron(weights, bias)\n",
    "x = np.array([2, 3]) # x = 2, y = 3\n",
    "print(n.feedforward(x)) # 0.9990889488055994"
   ]
  },
  {
   "attachments": {
    "%D0%B8%D0%B7%D0%BE%D0%B1%D1%80%D0%B0%D0%B6%D0%B5%D0%BD%D0%B8%D0%B5.png": {
     "image/png": "[encoded data removed]"
    }
   },
   "cell_type": "markdown",
   "id": "0d117861",
   "metadata": {},
   "source": [
    "Нейросеть состоит из множества соединенных между собой нейронов. Пример несложной нейронной сети\n",
    "\n",
    "![%D0%B8%D0%B7%D0%BE%D0%B1%D1%80%D0%B0%D0%B6%D0%B5%D0%BD%D0%B8%D0%B5.png](attachment:%D0%B8%D0%B7%D0%BE%D0%B1%D1%80%D0%B0%D0%B6%D0%B5%D0%BD%D0%B8%D0%B5.png)\n",
    "\n",
    "где:\n",
    "\n",
    "+ x_1,x_2 — входной слой;\n",
    "+ h_1,h_2 — скрытый слой с двумя нейронами;\n",
    "+ o_1 — выходной слой.\n",
    "\n",
    "Например. Представим, что нейроны из графика выше имеют веса [0,1]. Пороговое значение (b) у обоих нейронов равно 0 и они имеют идентичную сигмоиду.\n",
    "\n",
    "При входных данных x=[2,3] получим:\n",
    "\n",
    "h_1  = h_2  = f(wx+b) = f((0 * 2) + (1 * 3) +0) = f(3) = 0.95.\n",
    "\n",
    "o_1  = f(w*[h_1,h_2] +b) = f((0h_1) + (1h_2) +0) = f(0.95) = 0.72.\n",
    "\n",
    "Входные данные по нейронам передаются до тех пор, пока не получатся выходные значения.\n"
   ]
  },
  {
   "cell_type": "code",
   "execution_count": 4,
   "id": "ff975c1c",
   "metadata": {},
   "outputs": [
    {
     "name": "stdout",
     "output_type": "stream",
     "text": [
      "0.7216325609518421\n"
     ]
    }
   ],
   "source": [
    "import numpy as np\n",
    "class OurNeuralNetwork:\n",
    "    '''\n",
    "    Данные нейросети:\n",
    "        - два входа\n",
    "        - два нейрона в скрытых слоях (h1, h2)\n",
    "        - выход (o1)\n",
    "    Нейроны имеют идентичные веса и пороги:\n",
    "        - w = [0, 1]\n",
    "        - b = 0\n",
    "    '''\n",
    "    def __init__(self):\n",
    "        weights = np.array([0, 1])\n",
    "        bias = 0\n",
    "        # Класс Neuron из предыдущего раздела\n",
    "        self.h1 = Neuron(weights, bias)\n",
    "        self.h2 = Neuron(weights, bias)\n",
    "        self.o1 = Neuron(weights, bias)\n",
    "    def feedforward(self, x):\n",
    "        out_h1 = self.h1.feedforward(x)\n",
    "        out_h2 = self.h2.feedforward(x)\n",
    "        # Входы для o1 - это выходы h1 и h2\n",
    "        out_o1 = self.o1.feedforward(np.array([out_h1, out_h2]))\n",
    "        return out_o1\n",
    "\n",
    "network = OurNeuralNetwork()\n",
    "x = np.array([2, 3])\n",
    "print(network.feedforward(x)) # 0.7216325609518421\n"
   ]
  },
  {
   "cell_type": "markdown",
   "id": "be7b3c25",
   "metadata": {},
   "source": [
    "## Теоретический материал – Обучение нейронной сети\n",
    "\n",
    "Обучение нейросети — это подбор весов, которые соответствуют всем входам для решения поставленных задач.\n",
    "\n",
    "Класс нейронной сети:\n"
   ]
  },
  {
   "cell_type": "code",
   "execution_count": 5,
   "id": "96a3c553",
   "metadata": {},
   "outputs": [],
   "source": [
    "class NeuralNetwork:\n",
    "    def __init__(self, x, y):\n",
    "        self.input = x\n",
    "        self.weights1 = np.random.rand(self.input.shape[1], 4)\n",
    "        self.weights2 = np.random.rand(4,1)\n",
    "        self.y = y\n",
    "        self.output = np.zeros(y.shape)"
   ]
  },
  {
   "attachments": {
    "%D0%B8%D0%B7%D0%BE%D0%B1%D1%80%D0%B0%D0%B6%D0%B5%D0%BD%D0%B8%D0%B5.png": {
     "image/png": "[encoded data removed]"
    }
   },
   "cell_type": "markdown",
   "id": "6a6e1c80",
   "metadata": {},
   "source": [
    "Каждый этап процесса обучения состоит из:\n",
    "\n",
    "\tпрямого распространения (прогнозируемый выход);\n",
    "\tобратного распространения (обновление весов и смещений).\n",
    "Например:\n",
    "Дана двуслойная нейросеть:\n",
    "\n",
    "ŷ = σ(w_2 σ(w_1 x + b_1 )+ b_2 ).\n",
    "\n",
    "В данном случае на выход ŷ влияют только две переменные — w (веса) и b (смещение). Настройку весов и смещений из данных входа или процесс обучения нейросети можно изобразить так:\n",
    "![%D0%B8%D0%B7%D0%BE%D0%B1%D1%80%D0%B0%D0%B6%D0%B5%D0%BD%D0%B8%D0%B5.png](attachment:%D0%B8%D0%B7%D0%BE%D0%B1%D1%80%D0%B0%D0%B6%D0%B5%D0%BD%D0%B8%D0%B5.png)\n",
    "\n",
    "**Прямое распространение.** \n",
    "\n",
    "Как видно, формула прямого распространения представляет собой несложное вычисление:\n",
    "\n",
    "ŷ = σ(w_2 σ(w_1 x + b_1) + b_2)\n",
    "\n",
    "Далее необходимо добавить в код функцию прямого распространения. Предположим, что смещения в этом случае будут равны 0.\n"
   ]
  },
  {
   "cell_type": "code",
   "execution_count": 6,
   "id": "913a2363",
   "metadata": {},
   "outputs": [],
   "source": [
    "class NeuralNetwork:\n",
    "    def __init__(self, x, y):\n",
    "        self.input = x\n",
    "        self.weights1 = np.random.rand(self.input.shape[1], 4)\n",
    "        self.weights2 = np.random.rand(4,1)\n",
    "        self.y = y\n",
    "        self.output = np.zeros(y.shape)\n",
    "    def feedforward(self):\n",
    "        self.layer1 = sigmoid(np.dot(self.input, self.weights1))\n",
    "        self.output = sigmoid(np.dot(self.layer1, self.weights2))"
   ]
  },
  {
   "attachments": {
    "%D0%B8%D0%B7%D0%BE%D0%B1%D1%80%D0%B0%D0%B6%D0%B5%D0%BD%D0%B8%D0%B5.png": {
     "image/png": "[encoded data removed]"
    }
   },
   "cell_type": "markdown",
   "id": "0aa002b0",
   "metadata": {},
   "source": [
    "Чтобы вычислить ошибку прогноза, необходимо использовать функцию потери. В примере уместно воспользоваться формулой суммы квадратов ошибок — средним значением между прогнозируемым и фактическим результатами:\n",
    "\n",
    "![%D0%B8%D0%B7%D0%BE%D0%B1%D1%80%D0%B0%D0%B6%D0%B5%D0%BD%D0%B8%D0%B5.png](attachment:%D0%B8%D0%B7%D0%BE%D0%B1%D1%80%D0%B0%D0%B6%D0%B5%D0%BD%D0%B8%D0%B5.png)\n"
   ]
  },
  {
   "attachments": {
    "%D0%B8%D0%B7%D0%BE%D0%B1%D1%80%D0%B0%D0%B6%D0%B5%D0%BD%D0%B8%D0%B5-2.png": {
     "image/png": "[encoded data removed]"
    },
    "%D0%B8%D0%B7%D0%BE%D0%B1%D1%80%D0%B0%D0%B6%D0%B5%D0%BD%D0%B8%D0%B5.png": {
     "image/png": "[encoded data removed]"
    }
   },
   "cell_type": "markdown",
   "id": "8857346c",
   "metadata": {},
   "source": [
    "**Обратное распространение** \n",
    "\n",
    "Обратное распространение позволяет измерить производные в обратном порядке — от конца к началу, и скорректировать веса и смещения. Для этого необходимо узнать производную функции потери — тангенс угла наклона.\n",
    "![%D0%B8%D0%B7%D0%BE%D0%B1%D1%80%D0%B0%D0%B6%D0%B5%D0%BD%D0%B8%D0%B5.png](attachment:%D0%B8%D0%B7%D0%BE%D0%B1%D1%80%D0%B0%D0%B6%D0%B5%D0%BD%D0%B8%D0%B5.png)\n",
    "Производная функции по отношению к весам и смещениям позволяет узнать градиентный спуск. Производная функции потери не содержит весов и смещений, для ее вычисления необходимо добавить правило цепи:\n",
    "![%D0%B8%D0%B7%D0%BE%D0%B1%D1%80%D0%B0%D0%B6%D0%B5%D0%BD%D0%B8%D0%B5-2.png](attachment:%D0%B8%D0%B7%D0%BE%D0%B1%D1%80%D0%B0%D0%B6%D0%B5%D0%BD%D0%B8%D0%B5-2.png)\n",
    "\n",
    "Благодаря этому правилу можно регулировать веса. Добавляем в код Python функцию обратного распространения:"
   ]
  },
  {
   "cell_type": "code",
   "execution_count": 7,
   "id": "25dc05cd",
   "metadata": {},
   "outputs": [],
   "source": [
    "class NeuralNetwork:\n",
    "    def __init__(self, x, y):\n",
    "        self.input = x\n",
    "        self.weights1 = np.random.rand(self.input.shape[1], 4)\n",
    "        self.weights2 = np.random.rand(4,1)\n",
    "        self.y = y\n",
    "        self.output = np.zeros(y.shape)\n",
    "    def feedforward(self):\n",
    "        self.layer1 = sigmoid(np.dot(self.input, self.weights1))\n",
    "        self.output = sigmoid(np.dot(self.layer1, self.weights2))\n",
    "    def backprop(self):\n",
    "        # применение правила цепи для нахождения производной потерь по весу2 и весу1\n",
    "        d_weights2 = np.dot(self.layer1.T, (2*(self.y - self.output) * sigmoid_derivative(self.output)))\n",
    "        d_weights1 = np.dot(self.input.T, (np.dot(2*(self.y - self.output) * sigmoid_derivative(self.output),\n",
    "                                                  self.weights2.T) * sigmoid_derivative(self.layer1)))\n",
    "        \n",
    "        # обновление веса производной (наклона) ф-ии потерь\n",
    "        self.weights1 += d_weights1\n",
    "        self.weights2 += d_weights2"
   ]
  },
  {
   "cell_type": "markdown",
   "id": "f8b9e4bc",
   "metadata": {},
   "source": [
    "Нейронные сети базируются на определенных алгоритмах и математических функциях. Сначала может казаться, что разобраться в них довольно сложно. Но существуют готовые библиотеки машинного обучения для построения и тренировки нейросетей, позволяющие не углубляться в их устройство."
   ]
  },
  {
   "cell_type": "markdown",
   "id": "bdcbd1e4",
   "metadata": {},
   "source": [
    "### Задание\n",
    "\n",
    "Реализовать классы нейросетей по аналогии с классом OurNeuralNetwork. Данные нейросети:\n",
    "\n",
    "\t- три входа (x_1,x_2,x_3 );\n",
    "\t- три нейрона в скрытых слоях (h_1,h_2,h_3);\n",
    "\t- выход (o_1).\n",
    "    \n",
    "Нейроны имеют идентичные веса и пороги:\n",
    "\t\n",
    "    - w = [0.5,0.5,0.5] \n",
    "\t- b = 0 \n",
    "Данные нейросети:\n",
    "\n",
    "\t- два входа (x_1,x_2);\n",
    "\t- два нейрона в скрытых слоях (h_1,h_2);\n",
    "\t- два выхода (o_1,o_2 ).\n",
    "    \n",
    "Нейроны имеют идентичные веса и пороги:\n",
    "\t\n",
    "    - w = [1,0];\n",
    "    - b = 1.\n"
   ]
  },
  {
   "cell_type": "code",
   "execution_count": 8,
   "id": "856292ad",
   "metadata": {},
   "outputs": [],
   "source": [
    "# Подготовка: создадим класс персептрона и его обучения\n",
    "# Ф-я активации - сигмоида\n",
    "\n",
    "import numpy as np\n",
    "def sigmoid(x):\n",
    "    # ф-я активации: f(x) = 1 / (1 + e^(-x))\n",
    "    return 1 / (1 + np.exp(-x))\n",
    "\n",
    "class Neuron:\n",
    "    def __init__(self, weights, bias):\n",
    "        self.weights = weights\n",
    "        self.bias = bias\n",
    "    def feedforward(self, inputs):\n",
    "        total = np.dot(self.weights, inputs) + self.bias\n",
    "        return sigmoid(total)"
   ]
  },
  {
   "cell_type": "code",
   "execution_count": 9,
   "id": "e25fcb5c",
   "metadata": {},
   "outputs": [
    {
     "name": "stdout",
     "output_type": "stream",
     "text": [
      "0.8175744761936437\n"
     ]
    }
   ],
   "source": [
    "# 1\n",
    "import numpy as np\n",
    "class OurNeuralNetwork1:\n",
    "    '''\n",
    "    Данные нейросети:\n",
    "        - три входа\n",
    "        - три нейрона в скрытых слоях (h1, h2, h3)\n",
    "        - выход (o1)\n",
    "    Нейроны имеют идентичные веса и пороги:\n",
    "        - w = [0.5, 0.5, 0.5]\n",
    "        - b = 0\n",
    "    '''\n",
    "    def __init__(self):\n",
    "        weights = np.array([0.5, 0.5, 0.5])\n",
    "        bias = 0\n",
    "        \n",
    "        # Класс Neuron из предыдущего раздела\n",
    "        self.h1 = Neuron(weights, bias)\n",
    "        self.h2 = Neuron(weights, bias)\n",
    "        self.h3 = Neuron(weights, bias)\n",
    "        self.o1 = Neuron(weights, bias)\n",
    "    \n",
    "    def feedforward(self, x):\n",
    "        out_h1 = self.h1.feedforward(x)\n",
    "        out_h2 = self.h2.feedforward(x)\n",
    "        out_h3 = self.h3.feedforward(x)\n",
    "        \n",
    "        # Входы для o1 - это выходы h1, h2, h3\n",
    "        out_o1 = self.o1.feedforward(np.array([out_h1, out_h2, out_h3]))\n",
    "        return out_o1\n",
    "\n",
    "network = OurNeuralNetwork1()\n",
    "x = np.array([0, 10, 100])\n",
    "print(network.feedforward(x))"
   ]
  },
  {
   "attachments": {
    "%D0%B8%D0%B7%D0%BE%D0%B1%D1%80%D0%B0%D0%B6%D0%B5%D0%BD%D0%B8%D0%B5.png": {
     "image/png": "[encoded data removed]"
    }
   },
   "cell_type": "markdown",
   "id": "4bd3850e",
   "metadata": {},
   "source": [
    "Изобразим на графе\n",
    "\n",
    "![%D0%B8%D0%B7%D0%BE%D0%B1%D1%80%D0%B0%D0%B6%D0%B5%D0%BD%D0%B8%D0%B5.png](attachment:%D0%B8%D0%B7%D0%BE%D0%B1%D1%80%D0%B0%D0%B6%D0%B5%D0%BD%D0%B8%D0%B5.png)"
   ]
  },
  {
   "cell_type": "code",
   "execution_count": 10,
   "id": "0a055501",
   "metadata": {},
   "outputs": [
    {
     "name": "stdout",
     "output_type": "stream",
     "text": [
      "(0.8495477739862124, 0.8495477739862124)\n"
     ]
    }
   ],
   "source": [
    "# 2\n",
    "import numpy as np\n",
    "class OurNeuralNetwork2:\n",
    "    '''\n",
    "    Данные нейросети:\n",
    "        - два входа\n",
    "        - два нейрона в скрытых слоях (h1, h2)\n",
    "        - два выхода (o1, o2)\n",
    "    Нейроны имеют идентичные веса и пороги:\n",
    "        - w = [1, 0]\n",
    "        - b = 1\n",
    "    '''\n",
    "    def __init__(self):\n",
    "        weights = np.array([1, 0])\n",
    "        bias = 1\n",
    "        \n",
    "        # Класс Neuron из предыдущего раздела\n",
    "        self.h1 = Neuron(weights, bias)\n",
    "        self.h2 = Neuron(weights, bias)\n",
    "        \n",
    "        self.o1 = Neuron(weights, bias)\n",
    "        self.o2 = Neuron(weights, bias)\n",
    "    \n",
    "    def feedforward(self, x):\n",
    "        out_h1 = self.h1.feedforward(x)\n",
    "        out_h2 = self.h2.feedforward(x)\n",
    "        \n",
    "        # Вход для o1 - это выход h1, h2\n",
    "        # Вход для o2 - это выход h1, h2\n",
    "        # o1 = o2\n",
    "        \n",
    "        out_o1 = self.o1.feedforward(np.array([out_h1, out_h2]))\n",
    "        out_o2 = self.o2.feedforward(np.array([out_h1, out_h2]))\n",
    "        return out_o1, out_o2\n",
    "\n",
    "network = OurNeuralNetwork2()\n",
    "x = np.array([0, 10])\n",
    "print(network.feedforward(x))"
   ]
  },
  {
   "attachments": {
    "%D0%B8%D0%B7%D0%BE%D0%B1%D1%80%D0%B0%D0%B6%D0%B5%D0%BD%D0%B8%D0%B5.png": {
     "image/png": "[encoded data removed]"
    }
   },
   "cell_type": "markdown",
   "id": "6c26fc91",
   "metadata": {},
   "source": [
    "Изобразим на графе\n",
    "![%D0%B8%D0%B7%D0%BE%D0%B1%D1%80%D0%B0%D0%B6%D0%B5%D0%BD%D0%B8%D0%B5.png](attachment:%D0%B8%D0%B7%D0%BE%D0%B1%D1%80%D0%B0%D0%B6%D0%B5%D0%BD%D0%B8%D0%B5.png)"
   ]
  },
  {
   "attachments": {
    "%D0%B8%D0%B7%D0%BE%D0%B1%D1%80%D0%B0%D0%B6%D0%B5%D0%BD%D0%B8%D0%B5.png": {
     "image/png": "[encoded data removed]"
    }
   },
   "cell_type": "markdown",
   "id": "0431fe37",
   "metadata": {},
   "source": [
    "### Задание\n",
    "Реализуйте классы нейронных сетей с использованием других функций активации.\n",
    "\n",
    "![%D0%B8%D0%B7%D0%BE%D0%B1%D1%80%D0%B0%D0%B6%D0%B5%D0%BD%D0%B8%D0%B5.png](attachment:%D0%B8%D0%B7%D0%BE%D0%B1%D1%80%D0%B0%D0%B6%D0%B5%D0%BD%D0%B8%D0%B5.png)"
   ]
  },
  {
   "cell_type": "code",
   "execution_count": 11,
   "id": "bac60733",
   "metadata": {},
   "outputs": [],
   "source": [
    "import numpy as np\n",
    "# Ф-ии активаций и их производные\n",
    "\n",
    "def sigmoid(x):\n",
    "    return 1 / (1 + np.exp(-x))\n",
    "\n",
    "def sigmoid_derivative(x):\n",
    "    return sigmoid(x) * (1 - sigmoid(x))\n",
    "\n",
    "def tanh(x):\n",
    "    return np.tanh(x)\n",
    "\n",
    "def tanh_derivative(x):\n",
    "    return 1 - tanh(x)**2\n",
    "\n",
    "def ReLU(x):\n",
    "    return max(0, x)\n",
    "\n",
    "def ReLU_derivative(x):\n",
    "    if x > 0:\n",
    "        return 1\n",
    "    if x < 0:\n",
    "        return 0\n",
    "    \n",
    "# Классы нейронов для каждой ф-ии    \n",
    "class Neuron_sigmoid:\n",
    "    def __init__(self, weights, bias):\n",
    "        self.weights = weights\n",
    "        self.bias = bias\n",
    "    def feedforward(self, inputs):\n",
    "        total = np.dot(self.weights, inputs) + self.bias\n",
    "        return sigmoid(total)\n",
    "    \n",
    "class Neuron_tanh:\n",
    "    def __init__(self, weights, bias):\n",
    "        self.weights = weights\n",
    "        self.bias = bias\n",
    "    def feedforward(self, inputs):\n",
    "        total = np.dot(self.weights, inputs) + self.bias\n",
    "        return tanh(total)\n",
    "    \n",
    "class Neuron_ReLU:\n",
    "    def __init__(self, weights, bias):\n",
    "        self.weights = weights\n",
    "        self.bias = bias\n",
    "    def feedforward(self, inputs):\n",
    "        total = np.dot(self.weights, inputs) + self.bias\n",
    "        return ReLU(total)"
   ]
  },
  {
   "cell_type": "code",
   "execution_count": 12,
   "id": "9ea34d4a",
   "metadata": {},
   "outputs": [
    {
     "name": "stdout",
     "output_type": "stream",
     "text": [
      "output:\n",
      " [[0.0037259 ]\n",
      " [0.997381  ]\n",
      " [0.00212198]\n",
      " [0.99739795]]\n",
      "last loss:  3.201493224593766e-05\n",
      "min loss:  3.201493224593766e-05\n"
     ]
    },
    {
     "data": {
      "text/plain": [
       "[<matplotlib.lines.Line2D at 0x1e96be5db20>]"
      ]
     },
     "execution_count": 12,
     "metadata": {},
     "output_type": "execute_result"
    },
    {
     "data": {
      "image/png": "[encoded data removed]",
      "text/plain": [
       "<Figure size 432x288 with 1 Axes>"
      ]
     },
     "metadata": {
      "needs_background": "light"
     },
     "output_type": "display_data"
    }
   ],
   "source": [
    "import matplotlib.pyplot as plt\n",
    "\n",
    "# расчёт потерь\n",
    "def loss_calc(y_hat, y):\n",
    "    return ((y_hat - y)**2).sum()\n",
    "\n",
    "loss_values = []\n",
    "\n",
    "class NeuralNetwork_sigmoid:\n",
    "    def __init__(self, x, y):\n",
    "        self.input = x\n",
    "        self.weights1 = np.random.rand(self.input.shape[1], 4)\n",
    "        self.weights2 = np.random.rand(4,1)\n",
    "        self.y = y\n",
    "        self.output = np.zeros(y.shape)\n",
    "    def feedforward(self):\n",
    "        self.layer1 = sigmoid(np.dot(self.input, self.weights1))\n",
    "        self.output = sigmoid(np.dot(self.layer1, self.weights2))\n",
    "    def backprop(self):\n",
    "        # применение правила цепи для нахождения производной потерь по весу2 и весу1\n",
    "        d_weights2 = np.dot(self.layer1.T, (2*(self.y - self.output) * sigmoid_derivative(self.output)))\n",
    "        d_weights1 = np.dot(self.input.T, (np.dot(2*(self.y - self.output) * sigmoid_derivative(self.output),\n",
    "                                                  self.weights2.T) * sigmoid.derivative(self.layer1)))\n",
    "        \n",
    "        # обновление веса производной (наклона) ф-ии потерь\n",
    "        self.weights1 += d_weights1\n",
    "        self.weights2 += d_weights2\n",
    "\n",
    "X = np.array([[0,0],\n",
    "              [0,1],\n",
    "              [1,0],\n",
    "              [1,1]])\n",
    "\n",
    "y = np.array([[0],[1],[0],[1]])\n",
    "\n",
    "net_sigmoid = NeuralNetwork(X,y)\n",
    "for i in range(1000):\n",
    "    net_sigmoid.feedforward()\n",
    "    net_sigmoid.backprop()\n",
    "    loss_values.append(loss_calc(net_sigmoid.output, y))\n",
    "print(\"output:\\n\", net_sigmoid.output)\n",
    "print(\"last loss: \", loss_values[-1])\n",
    "print(\"min loss: \", min(loss_values))\n",
    "plt.plot(loss_values)"
   ]
  },
  {
   "cell_type": "code",
   "execution_count": 13,
   "id": "70638c6d",
   "metadata": {},
   "outputs": [
    {
     "name": "stdout",
     "output_type": "stream",
     "text": [
      "output:\n",
      " [[0.0039571 ]\n",
      " [0.99753494]\n",
      " [0.00202614]\n",
      " [0.9975061 ]]\n",
      "last loss:  3.205997936689188e-05\n",
      "min loss:  3.205997936689188e-05\n"
     ]
    },
    {
     "data": {
      "text/plain": [
       "[<matplotlib.lines.Line2D at 0x1e96bf5e100>]"
      ]
     },
     "execution_count": 13,
     "metadata": {},
     "output_type": "execute_result"
    },
    {
     "data": {
      "image/png": "[encoded data removed]",
      "text/plain": [
       "<Figure size 432x288 with 1 Axes>"
      ]
     },
     "metadata": {
      "needs_background": "light"
     },
     "output_type": "display_data"
    }
   ],
   "source": [
    "import matplotlib.pyplot as plt\n",
    "\n",
    "# расчёт потерь\n",
    "def loss_calc(y_hat, y):\n",
    "    return ((y_hat - y)**2).sum()\n",
    "\n",
    "loss_values = []\n",
    "\n",
    "class NeuralNetwork_tanh:\n",
    "    def __init__(self, x, y):\n",
    "        self.input = x\n",
    "        self.weights1 = np.random.rand(self.input.shape[1], 4)\n",
    "        self.weights2 = np.random.rand(4,1)\n",
    "        self.y = y\n",
    "        self.output = np.zeros(y.shape)\n",
    "    def feedforward(self):\n",
    "        self.layer1 = tanh(np.dot(self.input, self.weights1))\n",
    "        self.output = tanh(np.dot(self.layer1, self.weights2))\n",
    "    def backprop(self):\n",
    "        # применение правила цепи для нахождения производной потерь по весу2 и весу1\n",
    "        d_weights2 = np.dot(self.layer1.T, (2*(self.y - self.output) * tanh_derivative(self.output)))\n",
    "        d_weights1 = np.dot(self.input.T, (np.dot(2*(self.y - self.output) * tanh_derivative(self.output),\n",
    "                                                  self.weights2.T) * tanh.derivative(self.layer1)))\n",
    "        \n",
    "        # обновление веса производной (наклона) ф-ии потерь\n",
    "        self.weights1 += d_weights1\n",
    "        self.weights2 += d_weights2\n",
    "\n",
    "X = np.array([[0,0],\n",
    "              [0,1],\n",
    "              [1,0],\n",
    "              [1,1]])\n",
    "\n",
    "y = np.array([[0],[1],[0],[1]])\n",
    "\n",
    "net_tanh = NeuralNetwork(X,y)\n",
    "for i in range(1000):\n",
    "    net_tanh.feedforward()\n",
    "    net_tanh.backprop()\n",
    "    loss_values.append(loss_calc(net_tanh.output, y))\n",
    "print(\"output:\\n\", net_tanh.output)\n",
    "print(\"last loss: \", loss_values[-1])\n",
    "print(\"min loss: \", min(loss_values))\n",
    "plt.plot(loss_values)"
   ]
  },
  {
   "cell_type": "code",
   "execution_count": 14,
   "id": "3215f91c",
   "metadata": {},
   "outputs": [
    {
     "name": "stdout",
     "output_type": "stream",
     "text": [
      "output:\n",
      " [[0.00398506]\n",
      " [0.9975919 ]\n",
      " [0.0019745 ]\n",
      " [0.99756596]]\n",
      "last loss:  3.1502817118906206e-05\n",
      "min loss:  3.1502817118906206e-05\n"
     ]
    },
    {
     "data": {
      "text/plain": [
       "[<matplotlib.lines.Line2D at 0x1e96bfc0250>]"
      ]
     },
     "execution_count": 14,
     "metadata": {},
     "output_type": "execute_result"
    },
    {
     "data": {
      "image/png": "[encoded data removed]",
      "text/plain": [
       "<Figure size 432x288 with 1 Axes>"
      ]
     },
     "metadata": {
      "needs_background": "light"
     },
     "output_type": "display_data"
    }
   ],
   "source": [
    "import matplotlib.pyplot as plt\n",
    "\n",
    "# расчёт потерь\n",
    "def loss_calc(y_hat, y):\n",
    "    return ((y_hat - y)**2).sum()\n",
    "\n",
    "loss_values = []\n",
    "\n",
    "class NeuralNetwork_ReLU:\n",
    "    def __init__(self, x, y):\n",
    "        self.input = x\n",
    "        self.weights1 = np.random.rand(self.input.shape[1], 4)\n",
    "        self.weights2 = np.random.rand(4,1)\n",
    "        self.y = y\n",
    "        self.output = np.zeros(y.shape)\n",
    "    def feedforward(self):\n",
    "        self.layer1 = ReLU(np.dot(self.input, self.weights1))\n",
    "        self.output = ReLU(np.dot(self.layer1, self.weights2))\n",
    "    def backprop(self):\n",
    "        # применение правила цепи для нахождения производной потерь по весу2 и весу1\n",
    "        d_weights2 = np.dot(self.layer1.T, (2*(self.y - self.output) * ReLU_derivative(self.output)))\n",
    "        d_weights1 = np.dot(self.input.T, (np.dot(2*(self.y - self.output) * ReLU_derivative(self.output),\n",
    "                                                  self.weights2.T) * ReLU.derivative(self.layer1)))\n",
    "        \n",
    "        # обновление веса производной (наклона) ф-ии потерь\n",
    "        self.weights1 += d_weights1\n",
    "        self.weights2 += d_weights2\n",
    "\n",
    "X = np.array([[0,0],\n",
    "              [0,1],\n",
    "              [1,0],\n",
    "              [1,1]])\n",
    "\n",
    "y = np.array([[0],[1],[0],[1]])\n",
    "\n",
    "net_ReLU = NeuralNetwork(X,y)\n",
    "for i in range(1000):\n",
    "    net_ReLU.feedforward()\n",
    "    net_ReLU.backprop()\n",
    "    loss_values.append(loss_calc(net_ReLU.output, y))\n",
    "print(\"output:\\n\", net_ReLU.output)\n",
    "print(\"last loss: \", loss_values[-1])\n",
    "print(\"min loss: \", min(loss_values))\n",
    "plt.plot(loss_values)"
   ]
  },
  {
   "cell_type": "markdown",
   "id": "985863ad",
   "metadata": {},
   "source": [
    "## 1.2. Введение в нейронные сети с помощью Scikit-Learn в Python"
   ]
  },
  {
   "cell_type": "markdown",
   "id": "0238532b",
   "metadata": {},
   "source": [
    "Теперь мы знаем, что такое нейронные сети и какие шаги необходимо выполнить, чтобы построить простую нейронную сеть с плотными связями. В этом разделе мы попытаемся построить простую нейронную сеть, которая предсказывает класс, к которому принадлежит данное растение ириса. Мы будем использовать библиотеку Python Scikit-Learn для создания нашей нейронной сети.\n",
    "\n",
    "Sklearn предоставляет 2 оценщика для задач классификации и регрессии соответственно:\n",
    "\n",
    "\tMLPClassifier;\n",
    "\tMLPRegressor \n",
    "\n",
    "Начнем с импорта необходимых библиотек.\n"
   ]
  },
  {
   "cell_type": "code",
   "execution_count": 15,
   "id": "7e0e4226",
   "metadata": {},
   "outputs": [],
   "source": [
    "import numpy as np\n",
    "import pandas as pd\n",
    "import matplotlib.pyplot as plt\n",
    "\n",
    "import sklearn"
   ]
  },
  {
   "cell_type": "markdown",
   "id": "8716a5ad",
   "metadata": {},
   "source": [
    "## MLPClassifier"
   ]
  },
  {
   "cell_type": "markdown",
   "id": "3d9cd961",
   "metadata": {},
   "source": [
    "Загрузка данных\n",
    "\n",
    "Мы будем загружать два набора данных.\n",
    "\n",
    "Набор данных цифр: мы будем использовать набор данных цифр, который имеет изображения размером 8x8 для цифр 0-9. Ниже мы будем использовать цифровые данные для задач классификации.\n",
    "\n",
    "Набор данных о жилье в Бостоне: мы будем использовать набор данных о жилье в Бостоне, который содержит информацию о различных свойствах дома, таких как среднее количество комнат, уровень преступности на душу населения в городе и т. д. Мы будем использовать его для задач регрессии.\n",
    "\n",
    "Sklearn предоставляет оба этих набора данных. Мы можем загрузить их, вызвав методы load_digits() и load_boston().\n"
   ]
  },
  {
   "cell_type": "code",
   "execution_count": 16,
   "id": "6f848290",
   "metadata": {},
   "outputs": [
    {
     "name": "stdout",
     "output_type": "stream",
     "text": [
      "Dataset Sizes:  (1797, 64) (1797,)\n"
     ]
    }
   ],
   "source": [
    "from sklearn.datasets import load_digits, load_boston\n",
    "\n",
    "digits = load_digits()\n",
    "X_digits, Y_digits = digits.data, digits.target\n",
    "print(\"Dataset Sizes: \", X_digits.shape, Y_digits.shape)"
   ]
  },
  {
   "cell_type": "code",
   "execution_count": 17,
   "id": "d1a4a46b",
   "metadata": {},
   "outputs": [
    {
     "name": "stdout",
     "output_type": "stream",
     "text": [
      "Dataset Sizes:  (506, 13) (506,)\n"
     ]
    }
   ],
   "source": [
    "boston = load_boston()\n",
    "X_boston, Y_boston = boston.data, boston.target\n",
    "print(\"Dataset Sizes: \", X_boston.shape, Y_boston.shape)"
   ]
  },
  {
   "cell_type": "markdown",
   "id": "37147e13",
   "metadata": {},
   "source": [
    "Классификация\n",
    "\n",
    "MLPClassifier — это класс, доступный как часть модуля neuro_network sklearn для выполнения задач классификации с использованием многослойного персептрона.\n",
    "Как обычно разделим набор данных на две части:\n",
    "\n",
    "\tданные обучения, которые будут использоваться для модели обучения;\n",
    "\tтестовые данные, по которым будет проверяться точность обученной модели.\n",
    "\n",
    "Функция train_test_split модуля model_selection sklearn поможет нам разделить данные на два набора: 80% для обучения и 20% для тестирования. Мы также используем seed(random_state=123) с train_test_split, чтобы мы всегда получали одно и то же разделение и могли сравнивать и воспроизволить результаты в будущем.\n"
   ]
  },
  {
   "cell_type": "code",
   "execution_count": 18,
   "id": "782fee36",
   "metadata": {},
   "outputs": [
    {
     "name": "stdout",
     "output_type": "stream",
     "text": [
      "Train/Test Sizes:   (1437, 64) (360, 64) (1437,) (360,)\n"
     ]
    }
   ],
   "source": [
    "from sklearn.model_selection import train_test_split\n",
    "\n",
    "X_train, X_test, Y_train, Y_test = train_test_split(X_digits, Y_digits, train_size=0.8, \n",
    "                                    test_size=0.2, stratify=Y_digits, random_state=123)\n",
    "print(\"Train/Test Sizes:  \", X_train.shape, X_test.shape, Y_train.shape, Y_test.shape)"
   ]
  },
  {
   "cell_type": "markdown",
   "id": "ca94c3b0",
   "metadata": {},
   "source": [
    "Для начала натренируем модель MLPClassifier с параметрами по умолчанию для тренировочных данных."
   ]
  },
  {
   "cell_type": "code",
   "execution_count": 19,
   "id": "5cff4c94",
   "metadata": {},
   "outputs": [
    {
     "data": {
      "text/plain": [
       "MLPClassifier(random_state=123)"
      ]
     },
     "execution_count": 19,
     "metadata": {},
     "output_type": "execute_result"
    }
   ],
   "source": [
    "from sklearn.neural_network import MLPClassifier\n",
    "\n",
    "mlp_classifier = MLPClassifier(random_state=123)\n",
    "mlp_classifier.fit(X_train, Y_train)"
   ]
  },
  {
   "cell_type": "code",
   "execution_count": 20,
   "id": "485da808",
   "metadata": {},
   "outputs": [
    {
     "name": "stdout",
     "output_type": "stream",
     "text": [
      "[5 9 9 6 1 6 6 9 8 7 4 2 1 4 3]\n",
      "[5 9 9 6 1 6 6 9 8 7 4 2 1 4 3]\n",
      "Test Accuracy: 0.983\n",
      "Training Accuracy: 1.000\n"
     ]
    }
   ],
   "source": [
    "Y_preds = mlp_classifier.predict(X_test)\n",
    "\n",
    "print(Y_preds[:15])\n",
    "print(Y_test[:15])\n",
    "\n",
    "# Метод Score для оценки точности моделей классификации\n",
    "print(\"Test Accuracy: %.3f\"%mlp_classifier.score(X_test, Y_test))\n",
    "print(\"Training Accuracy: %.3f\"%mlp_classifier.score(X_train, Y_train))"
   ]
  },
  {
   "cell_type": "markdown",
   "id": "fee42f47",
   "metadata": {},
   "source": [
    "Cоздадим метод plot_confusion_matrix(), который принимает исходные и предсказанные метки данных по модели. Затем он строит матрицу путаницы, используя matplotlib."
   ]
  },
  {
   "cell_type": "code",
   "execution_count": 21,
   "id": "a4fa8358",
   "metadata": {},
   "outputs": [
    {
     "data": {
      "image/png": "[encoded data removed]",
      "text/plain": [
       "<Figure size 432x432 with 2 Axes>"
      ]
     },
     "metadata": {
      "needs_background": "light"
     },
     "output_type": "display_data"
    }
   ],
   "source": [
    "from sklearn.metrics import confusion_matrix\n",
    "\n",
    "def plot_confusion_matrix(Y_test, Y_preds):\n",
    "    conf_mat = confusion_matrix(Y_test, Y_preds)\n",
    "    \n",
    "    fig = plt.figure(figsize=(6,6))\n",
    "    plt.matshow(conf_mat, cmap=plt.cm.Blues, fignum=1)\n",
    "    plt.yticks=(range(10), range(10))\n",
    "    plt.xticks=(range(10), range(10))\n",
    "    plt.colorbar();\n",
    "    for i in range(10):\n",
    "        for j in range(10):\n",
    "            plt.text(i-0.2,j+0.1, str(conf_mat[j,i]), color=\"tab:red\")\n",
    "\n",
    "plot_confusion_matrix(Y_test, mlp_classifier.predict(X_test))"
   ]
  },
  {
   "cell_type": "markdown",
   "id": "24225b8c",
   "metadata": {},
   "source": [
    "Ниже приведен список важных атрибутов, доступных с MLPClassifier, которые могут предоставить значимую информацию после обучения модели.\n",
    "\n",
    "-\tloss_ — возвращает убыток после завершения процесса обучения.\n",
    "-\tcoefs_ — возвращает массив длины n_layers-1, где каждый элемент представляет веса, связанные с уровнем i.\n",
    "-\tintercepts_ — возвращает массив длины n_layers-1, где каждый элемент представляет собой перехват, связанный с персептронами слоя i.\n",
    "-\tn_iter_ — количество итераций, для которых выполнялась оценка.\n",
    "-\tout_activation_ — возвращает имя функции активации выходного слоя.\n",
    "-\tout_activation_ — возвращает имя функции активации выходного слоя.\n"
   ]
  },
  {
   "cell_type": "code",
   "execution_count": 22,
   "id": "2e4ba9a0",
   "metadata": {},
   "outputs": [
    {
     "name": "stdout",
     "output_type": "stream",
     "text": [
      "Loss:  0.003472868499418062\n",
      "Number of Coefs:  2\n",
      "Number of Intercepts:  2\n",
      "Number of Iterations for Which Estimator Ran:  125\n",
      "Name of Output Layer Activation Function:  softmax\n"
     ]
    }
   ],
   "source": [
    "print(\"Loss: \", mlp_classifier.loss_)\n",
    "print(\"Number of Coefs: \", len(mlp_classifier.coefs_))\n",
    "print(\"Number of Intercepts: \", len(mlp_classifier.intercepts_))\n",
    "print(\"Number of Iterations for Which Estimator Ran: \", mlp_classifier.n_iter_)\n",
    "print(\"Name of Output Layer Activation Function: \", mlp_classifier.out_activation_)"
   ]
  },
  {
   "cell_type": "markdown",
   "id": "ffdc5de2",
   "metadata": {},
   "source": [
    "### MLPRegressor\n",
    "\n",
    "MLPRegressor — это класс, доступный как часть библиотеки neuro_network sklearn для выполнения задач регрессии с использованием многослойного персептрона. Также разделим набор данных на две части:\n",
    "\n",
    "-\tданные обучения (80%), которые будут использоваться для модели обучения;\n",
    "-\tтестовые данные (20%), по которым будет проверяться точность обученной модели.\n"
   ]
  },
  {
   "cell_type": "code",
   "execution_count": 23,
   "id": "1139c9af",
   "metadata": {},
   "outputs": [
    {
     "name": "stdout",
     "output_type": "stream",
     "text": [
      "Train/Test Sizes:   (404, 13) (102, 13) (404,) (102,)\n"
     ]
    }
   ],
   "source": [
    "X_train, X_test, Y_train, Y_test = train_test_split(X_boston, Y_boston, train_size=0.8, \n",
    "                                    test_size=0.2, random_state=123)\n",
    "print(\"Train/Test Sizes:  \", X_train.shape, X_test.shape, Y_train.shape, Y_test.shape)"
   ]
  },
  {
   "cell_type": "code",
   "execution_count": 24,
   "id": "39a04733",
   "metadata": {},
   "outputs": [
    {
     "data": {
      "text/plain": [
       "MLPRegressor(random_state=123)"
      ]
     },
     "execution_count": 24,
     "metadata": {},
     "output_type": "execute_result"
    }
   ],
   "source": [
    "from sklearn.neural_network import MLPRegressor\n",
    "\n",
    "mlp_regressor = MLPRegressor(random_state=123)\n",
    "mlp_regressor.fit(X_train, Y_train)"
   ]
  },
  {
   "cell_type": "code",
   "execution_count": 25,
   "id": "0ba385da",
   "metadata": {},
   "outputs": [
    {
     "name": "stdout",
     "output_type": "stream",
     "text": [
      "[ 7.32543601 24.33417853 32.46700507 15.19086054 25.6749167  25.07797685\n",
      " 27.20985668  2.62269853 15.25691994 28.02637784]\n",
      "[15.  26.6 45.4 20.8 34.9 21.9 28.7  7.2 20.  32.2]\n",
      "Test R^2 Score: 0.462\n",
      "Training R^2 Score: 0.510\n"
     ]
    }
   ],
   "source": [
    "Y_preds = mlp_regressor.predict(X_test)\n",
    "\n",
    "print(Y_preds[:10])\n",
    "print(Y_test[:10])\n",
    "# Метод Score оценивает точность моделей классификации\n",
    "print(\"Test R^2 Score: %.3f\"%mlp_regressor.score(X_test, Y_test))\n",
    "print(\"Training R^2 Score: %.3f\"%mlp_regressor.score(X_train, Y_train))"
   ]
  },
  {
   "cell_type": "markdown",
   "id": "527aa7a5",
   "metadata": {},
   "source": [
    "MLPRegressor имеет все атрибуты такие же, как и у MLPClassifier:"
   ]
  },
  {
   "cell_type": "code",
   "execution_count": 26,
   "id": "e7a264ac",
   "metadata": {},
   "outputs": [
    {
     "name": "stdout",
     "output_type": "stream",
     "text": [
      "Loss:  28.53817406111961\n"
     ]
    }
   ],
   "source": [
    "print(\"Loss: \", mlp_regressor.loss_)"
   ]
  },
  {
   "cell_type": "code",
   "execution_count": 27,
   "id": "628c3a84",
   "metadata": {},
   "outputs": [
    {
     "name": "stdout",
     "output_type": "stream",
     "text": [
      "Number of Coefs:  2\n"
     ]
    },
    {
     "data": {
      "text/plain": [
       "[(13, 100), (100, 1)]"
      ]
     },
     "execution_count": 27,
     "metadata": {},
     "output_type": "execute_result"
    }
   ],
   "source": [
    "print(\"Number of Coefs: \", len(mlp_regressor.coefs_))\n",
    "[weights.shape for weights in mlp_regressor.coefs_]"
   ]
  },
  {
   "cell_type": "code",
   "execution_count": 28,
   "id": "0784ec73",
   "metadata": {},
   "outputs": [
    {
     "name": "stdout",
     "output_type": "stream",
     "text": [
      "Number of Iterations for Which Estimator Ran: 130\n"
     ]
    }
   ],
   "source": [
    "print(\"Number of Iterations for Which Estimator Ran:\", mlp_regressor.n_iter_)"
   ]
  },
  {
   "cell_type": "code",
   "execution_count": 29,
   "id": "58c10c7e",
   "metadata": {},
   "outputs": [
    {
     "name": "stdout",
     "output_type": "stream",
     "text": [
      "Name of Output Layer Activation Fuction: identity\n"
     ]
    }
   ],
   "source": [
    "print(\"Name of Output Layer Activation Fuction:\", mlp_regressor.out_activation_)"
   ]
  },
  {
   "cell_type": "markdown",
   "id": "be590987",
   "metadata": {},
   "source": [
    "### Задание\n",
    "Используйте классы MLPClassified и MLPRegressor для классификации и регрессии произвольных данных из интернета. Проведите анализ атрибуты, полученных моделей.\n",
    "\n",
    "Для классификации можете взять набор данных Ирисов:\n",
    "https://gist.githubusercontent.com/netj/8836201/raw/6f9306ad21398ea43cba4f7d537619d0e07d5ae3/iris.csv\n",
    "а для регрессии датасет зависимости заработной платы от опыта работы:\n",
    "https://raw.githubusercontent.com/AnnaShestova/salary-years-simple-linear-regression/master/Salary_Data.csv \n"
   ]
  },
  {
   "cell_type": "code",
   "execution_count": 30,
   "id": "43cf39a2",
   "metadata": {},
   "outputs": [
    {
     "data": {
      "text/html": [
       "<div>\n",
       "<style scoped>\n",
       "    .dataframe tbody tr th:only-of-type {\n",
       "        vertical-align: middle;\n",
       "    }\n",
       "\n",
       "    .dataframe tbody tr th {\n",
       "        vertical-align: top;\n",
       "    }\n",
       "\n",
       "    .dataframe thead th {\n",
       "        text-align: right;\n",
       "    }\n",
       "</style>\n",
       "<table border=\"1\" class=\"dataframe\">\n",
       "  <thead>\n",
       "    <tr style=\"text-align: right;\">\n",
       "      <th></th>\n",
       "      <th>sepal.length</th>\n",
       "      <th>sepal.width</th>\n",
       "      <th>petal.length</th>\n",
       "      <th>petal.width</th>\n",
       "      <th>variety</th>\n",
       "    </tr>\n",
       "  </thead>\n",
       "  <tbody>\n",
       "    <tr>\n",
       "      <th>0</th>\n",
       "      <td>5.1</td>\n",
       "      <td>3.5</td>\n",
       "      <td>1.4</td>\n",
       "      <td>0.2</td>\n",
       "      <td>Setosa</td>\n",
       "    </tr>\n",
       "    <tr>\n",
       "      <th>1</th>\n",
       "      <td>4.9</td>\n",
       "      <td>3.0</td>\n",
       "      <td>1.4</td>\n",
       "      <td>0.2</td>\n",
       "      <td>Setosa</td>\n",
       "    </tr>\n",
       "    <tr>\n",
       "      <th>2</th>\n",
       "      <td>4.7</td>\n",
       "      <td>3.2</td>\n",
       "      <td>1.3</td>\n",
       "      <td>0.2</td>\n",
       "      <td>Setosa</td>\n",
       "    </tr>\n",
       "    <tr>\n",
       "      <th>3</th>\n",
       "      <td>4.6</td>\n",
       "      <td>3.1</td>\n",
       "      <td>1.5</td>\n",
       "      <td>0.2</td>\n",
       "      <td>Setosa</td>\n",
       "    </tr>\n",
       "    <tr>\n",
       "      <th>4</th>\n",
       "      <td>5.0</td>\n",
       "      <td>3.6</td>\n",
       "      <td>1.4</td>\n",
       "      <td>0.2</td>\n",
       "      <td>Setosa</td>\n",
       "    </tr>\n",
       "  </tbody>\n",
       "</table>\n",
       "</div>"
      ],
      "text/plain": [
       "   sepal.length  sepal.width  petal.length  petal.width variety\n",
       "0           5.1          3.5           1.4          0.2  Setosa\n",
       "1           4.9          3.0           1.4          0.2  Setosa\n",
       "2           4.7          3.2           1.3          0.2  Setosa\n",
       "3           4.6          3.1           1.5          0.2  Setosa\n",
       "4           5.0          3.6           1.4          0.2  Setosa"
      ]
     },
     "execution_count": 30,
     "metadata": {},
     "output_type": "execute_result"
    }
   ],
   "source": [
    "# Classification\n",
    "import pandas as pd\n",
    "\n",
    "data = pd.read_csv('https://gist.githubusercontent.com/netj/8836201/raw/6f9306ad21398ea43cba4f7d537619d0e07d5ae3/iris.csv')\n",
    "data.head()"
   ]
  },
  {
   "cell_type": "code",
   "execution_count": 31,
   "id": "6bc69891",
   "metadata": {},
   "outputs": [],
   "source": [
    "X = data.iloc[:, 0:4]\n",
    "y = data.iloc[:, 4]"
   ]
  },
  {
   "cell_type": "code",
   "execution_count": 32,
   "id": "f59c2552",
   "metadata": {},
   "outputs": [],
   "source": [
    "from sklearn.model_selection import train_test_split\n",
    "\n",
    "X_train, X_test, Y_train, Y_test = train_test_split(X, y, train_size=0.8, \n",
    "                                    test_size=0.2, random_state=123)"
   ]
  },
  {
   "cell_type": "code",
   "execution_count": 33,
   "id": "8cf43927",
   "metadata": {},
   "outputs": [
    {
     "data": {
      "text/plain": [
       "MLPClassifier(max_iter=15000, random_state=123)"
      ]
     },
     "execution_count": 33,
     "metadata": {},
     "output_type": "execute_result"
    }
   ],
   "source": [
    "from sklearn.neural_network import MLPClassifier\n",
    "\n",
    "mlp_classifier = MLPClassifier(random_state=123, max_iter=15000) # без параметра max_iter - ConvergenceWarning\n",
    "mlp_classifier.fit(X_train, Y_train)"
   ]
  },
  {
   "cell_type": "code",
   "execution_count": 34,
   "id": "b43e702d",
   "metadata": {},
   "outputs": [
    {
     "name": "stdout",
     "output_type": "stream",
     "text": [
      "['Versicolor' 'Virginica' 'Virginica' 'Versicolor' 'Setosa' 'Virginica'\n",
      " 'Versicolor' 'Setosa' 'Setosa' 'Versicolor' 'Virginica' 'Setosa'\n",
      " 'Versicolor' 'Virginica' 'Virginica']\n",
      "['Versicolor' 'Virginica' 'Virginica' 'Versicolor' 'Setosa' 'Virginica'\n",
      " 'Versicolor' 'Setosa' 'Setosa' 'Versicolor' 'Virginica' 'Setosa'\n",
      " 'Versicolor' 'Virginica' 'Virginica']\n",
      "Test Accuracy: 0.967\n",
      "Training Accuracy: 0.983\n"
     ]
    }
   ],
   "source": [
    "Y_preds = mlp_classifier.predict(X_test)\n",
    "\n",
    "print(Y_preds[:15])\n",
    "print(Y_test[:15].values)\n",
    "\n",
    "# Метод Score для оценки точности моделей классификации\n",
    "print(\"Test Accuracy: %.3f\"%mlp_classifier.score(X_test, Y_test))\n",
    "print(\"Training Accuracy: %.3f\"%mlp_classifier.score(X_train, Y_train))"
   ]
  },
  {
   "cell_type": "code",
   "execution_count": 35,
   "id": "6d5a6fc6",
   "metadata": {},
   "outputs": [
    {
     "data": {
      "text/html": [
       "<div>\n",
       "<style scoped>\n",
       "    .dataframe tbody tr th:only-of-type {\n",
       "        vertical-align: middle;\n",
       "    }\n",
       "\n",
       "    .dataframe tbody tr th {\n",
       "        vertical-align: top;\n",
       "    }\n",
       "\n",
       "    .dataframe thead th {\n",
       "        text-align: right;\n",
       "    }\n",
       "</style>\n",
       "<table border=\"1\" class=\"dataframe\">\n",
       "  <thead>\n",
       "    <tr style=\"text-align: right;\">\n",
       "      <th></th>\n",
       "      <th>YearsExperience</th>\n",
       "      <th>Salary</th>\n",
       "    </tr>\n",
       "  </thead>\n",
       "  <tbody>\n",
       "    <tr>\n",
       "      <th>0</th>\n",
       "      <td>1.1</td>\n",
       "      <td>39343.0</td>\n",
       "    </tr>\n",
       "    <tr>\n",
       "      <th>1</th>\n",
       "      <td>1.3</td>\n",
       "      <td>46205.0</td>\n",
       "    </tr>\n",
       "    <tr>\n",
       "      <th>2</th>\n",
       "      <td>1.5</td>\n",
       "      <td>37731.0</td>\n",
       "    </tr>\n",
       "    <tr>\n",
       "      <th>3</th>\n",
       "      <td>2.0</td>\n",
       "      <td>43525.0</td>\n",
       "    </tr>\n",
       "    <tr>\n",
       "      <th>4</th>\n",
       "      <td>2.2</td>\n",
       "      <td>39891.0</td>\n",
       "    </tr>\n",
       "  </tbody>\n",
       "</table>\n",
       "</div>"
      ],
      "text/plain": [
       "   YearsExperience   Salary\n",
       "0              1.1  39343.0\n",
       "1              1.3  46205.0\n",
       "2              1.5  37731.0\n",
       "3              2.0  43525.0\n",
       "4              2.2  39891.0"
      ]
     },
     "execution_count": 35,
     "metadata": {},
     "output_type": "execute_result"
    }
   ],
   "source": [
    "# Regression\n",
    "import pandas as pd\n",
    "\n",
    "data = pd.read_csv('https://raw.githubusercontent.com/AnnaShestova/salary-years-simple-linear-regression/master/Salary_Data.csv')\n",
    "data.head()"
   ]
  },
  {
   "cell_type": "code",
   "execution_count": 36,
   "id": "51199aca",
   "metadata": {},
   "outputs": [
    {
     "data": {
      "text/plain": [
       "array([ 39343.,  46205.,  37731.,  43525.,  39891.,  56642.,  60150.,\n",
       "        54445.,  64445.,  57189.,  63218.,  55794.,  56957.,  57081.,\n",
       "        61111.,  67938.,  66029.,  83088.,  81363.,  93940.,  91738.,\n",
       "        98273., 101302., 113812., 109431., 105582., 116969., 112635.,\n",
       "       122391., 121872.])"
      ]
     },
     "execution_count": 36,
     "metadata": {},
     "output_type": "execute_result"
    }
   ],
   "source": [
    "X = data[\"YearsExperience\"].values.reshape(-1, 1)\n",
    "y = data['Salary'].values\n",
    "y"
   ]
  },
  {
   "cell_type": "code",
   "execution_count": 37,
   "id": "144d7be1",
   "metadata": {},
   "outputs": [],
   "source": [
    "from sklearn.model_selection import train_test_split\n",
    "\n",
    "X_train, X_test, Y_train, Y_test = train_test_split(X, y, train_size=0.8, \n",
    "                                    test_size=0.2, random_state=123)"
   ]
  },
  {
   "cell_type": "code",
   "execution_count": 38,
   "id": "b9f1caab",
   "metadata": {},
   "outputs": [
    {
     "data": {
      "text/plain": [
       "MLPRegressor(max_iter=100000, random_state=123)"
      ]
     },
     "execution_count": 38,
     "metadata": {},
     "output_type": "execute_result"
    }
   ],
   "source": [
    "from sklearn.neural_network import MLPRegressor\n",
    "\n",
    "mlp_regressor = MLPRegressor(random_state=123, max_iter=100000) # без параметра max_iter - ConvergenceWarning\n",
    "mlp_regressor.fit(X_train, Y_train)"
   ]
  },
  {
   "cell_type": "code",
   "execution_count": 39,
   "id": "0bd0cb76",
   "metadata": {},
   "outputs": [
    {
     "name": "stdout",
     "output_type": "stream",
     "text": [
      "[ 55265.2045971  126554.5591937   52335.80522199 116782.59147446\n",
      "  55265.2045971  117759.05793283]\n",
      "[ 54445. 121872.  56642. 116969.  64445. 112635.]\n",
      "Test R^2 Score: 0.971\n",
      "Training R^2 Score: 0.948\n"
     ]
    }
   ],
   "source": [
    "Y_preds = mlp_regressor.predict(X_test)\n",
    "\n",
    "print(Y_preds[:10])\n",
    "print(Y_test[:10])\n",
    "# Метод Score оценивает точность моделей классификации\n",
    "print(\"Test R^2 Score: %.3f\"%mlp_regressor.score(X_test, Y_test))\n",
    "print(\"Training R^2 Score: %.3f\"%mlp_regressor.score(X_train, Y_train))\n",
    "\n",
    "# С модифицированным параметром max_iter метрика R^2 стала положительной\n",
    "# По полученным значениям с при дефолтном max_iter=200 видно, что\n",
    "# модель даёт неадекватные ответы\n",
    "\n",
    "# Было до изменения max_iter:\n",
    "\n",
    "# [20.26234628 55.2781752  18.82135812 50.48274487 20.26234628 50.9622879 ]\n",
    "# [ 54445. 121872.  56642. 116969.  64445. 112635.]\n",
    "# Test R^2 Score: -8.796\n",
    "# Training R^2 Score: -8.261\n",
    "\n",
    "# Если R2 < 0 - разработанная модель даёт прогноз даже хуже, чем простое усреднение"
   ]
  },
  {
   "cell_type": "code",
   "execution_count": 40,
   "id": "3ca1023d",
   "metadata": {},
   "outputs": [
    {
     "name": "stdout",
     "output_type": "stream",
     "text": [
      "Loss:  16873681.689960096\n",
      "Number of Coefs:  2\n",
      "Number of Intercepts:  2\n",
      "Number of Iterations for Which Estimator Ran:  30344\n",
      "Name of Output Layer Activation Function:  identity\n"
     ]
    }
   ],
   "source": [
    "print(\"Loss: \", mlp_regressor.loss_)\n",
    "print(\"Number of Coefs: \", len(mlp_regressor.coefs_))\n",
    "print(\"Number of Intercepts: \", len(mlp_regressor.intercepts_))\n",
    "print(\"Number of Iterations for Which Estimator Ran: \", mlp_regressor.n_iter_)\n",
    "print(\"Name of Output Layer Activation Function: \", mlp_regressor.out_activation_)"
   ]
  },
  {
   "cell_type": "code",
   "execution_count": 41,
   "id": "cdc970d1",
   "metadata": {},
   "outputs": [
    {
     "data": {
      "text/html": [
       "<div>\n",
       "<style scoped>\n",
       "    .dataframe tbody tr th:only-of-type {\n",
       "        vertical-align: middle;\n",
       "    }\n",
       "\n",
       "    .dataframe tbody tr th {\n",
       "        vertical-align: top;\n",
       "    }\n",
       "\n",
       "    .dataframe thead th {\n",
       "        text-align: right;\n",
       "    }\n",
       "</style>\n",
       "<table border=\"1\" class=\"dataframe\">\n",
       "  <thead>\n",
       "    <tr style=\"text-align: right;\">\n",
       "      <th></th>\n",
       "      <th>YearsExperience</th>\n",
       "      <th>Salary</th>\n",
       "    </tr>\n",
       "  </thead>\n",
       "  <tbody>\n",
       "    <tr>\n",
       "      <th>0</th>\n",
       "      <td>1.1</td>\n",
       "      <td>39343.0</td>\n",
       "    </tr>\n",
       "    <tr>\n",
       "      <th>1</th>\n",
       "      <td>1.3</td>\n",
       "      <td>46205.0</td>\n",
       "    </tr>\n",
       "    <tr>\n",
       "      <th>2</th>\n",
       "      <td>1.5</td>\n",
       "      <td>37731.0</td>\n",
       "    </tr>\n",
       "    <tr>\n",
       "      <th>3</th>\n",
       "      <td>2.0</td>\n",
       "      <td>43525.0</td>\n",
       "    </tr>\n",
       "    <tr>\n",
       "      <th>4</th>\n",
       "      <td>2.2</td>\n",
       "      <td>39891.0</td>\n",
       "    </tr>\n",
       "    <tr>\n",
       "      <th>5</th>\n",
       "      <td>2.9</td>\n",
       "      <td>56642.0</td>\n",
       "    </tr>\n",
       "    <tr>\n",
       "      <th>6</th>\n",
       "      <td>3.0</td>\n",
       "      <td>60150.0</td>\n",
       "    </tr>\n",
       "    <tr>\n",
       "      <th>7</th>\n",
       "      <td>3.2</td>\n",
       "      <td>54445.0</td>\n",
       "    </tr>\n",
       "    <tr>\n",
       "      <th>8</th>\n",
       "      <td>3.2</td>\n",
       "      <td>64445.0</td>\n",
       "    </tr>\n",
       "    <tr>\n",
       "      <th>9</th>\n",
       "      <td>3.7</td>\n",
       "      <td>57189.0</td>\n",
       "    </tr>\n",
       "    <tr>\n",
       "      <th>10</th>\n",
       "      <td>3.9</td>\n",
       "      <td>63218.0</td>\n",
       "    </tr>\n",
       "    <tr>\n",
       "      <th>11</th>\n",
       "      <td>4.0</td>\n",
       "      <td>55794.0</td>\n",
       "    </tr>\n",
       "    <tr>\n",
       "      <th>12</th>\n",
       "      <td>4.0</td>\n",
       "      <td>56957.0</td>\n",
       "    </tr>\n",
       "    <tr>\n",
       "      <th>13</th>\n",
       "      <td>4.1</td>\n",
       "      <td>57081.0</td>\n",
       "    </tr>\n",
       "    <tr>\n",
       "      <th>14</th>\n",
       "      <td>4.5</td>\n",
       "      <td>61111.0</td>\n",
       "    </tr>\n",
       "    <tr>\n",
       "      <th>15</th>\n",
       "      <td>4.9</td>\n",
       "      <td>67938.0</td>\n",
       "    </tr>\n",
       "    <tr>\n",
       "      <th>16</th>\n",
       "      <td>5.1</td>\n",
       "      <td>66029.0</td>\n",
       "    </tr>\n",
       "    <tr>\n",
       "      <th>17</th>\n",
       "      <td>5.3</td>\n",
       "      <td>83088.0</td>\n",
       "    </tr>\n",
       "    <tr>\n",
       "      <th>18</th>\n",
       "      <td>5.9</td>\n",
       "      <td>81363.0</td>\n",
       "    </tr>\n",
       "    <tr>\n",
       "      <th>19</th>\n",
       "      <td>6.0</td>\n",
       "      <td>93940.0</td>\n",
       "    </tr>\n",
       "    <tr>\n",
       "      <th>20</th>\n",
       "      <td>6.8</td>\n",
       "      <td>91738.0</td>\n",
       "    </tr>\n",
       "    <tr>\n",
       "      <th>21</th>\n",
       "      <td>7.1</td>\n",
       "      <td>98273.0</td>\n",
       "    </tr>\n",
       "    <tr>\n",
       "      <th>22</th>\n",
       "      <td>7.9</td>\n",
       "      <td>101302.0</td>\n",
       "    </tr>\n",
       "    <tr>\n",
       "      <th>23</th>\n",
       "      <td>8.2</td>\n",
       "      <td>113812.0</td>\n",
       "    </tr>\n",
       "    <tr>\n",
       "      <th>24</th>\n",
       "      <td>8.7</td>\n",
       "      <td>109431.0</td>\n",
       "    </tr>\n",
       "    <tr>\n",
       "      <th>25</th>\n",
       "      <td>9.0</td>\n",
       "      <td>105582.0</td>\n",
       "    </tr>\n",
       "    <tr>\n",
       "      <th>26</th>\n",
       "      <td>9.5</td>\n",
       "      <td>116969.0</td>\n",
       "    </tr>\n",
       "    <tr>\n",
       "      <th>27</th>\n",
       "      <td>9.6</td>\n",
       "      <td>112635.0</td>\n",
       "    </tr>\n",
       "    <tr>\n",
       "      <th>28</th>\n",
       "      <td>10.3</td>\n",
       "      <td>122391.0</td>\n",
       "    </tr>\n",
       "    <tr>\n",
       "      <th>29</th>\n",
       "      <td>10.5</td>\n",
       "      <td>121872.0</td>\n",
       "    </tr>\n",
       "  </tbody>\n",
       "</table>\n",
       "</div>"
      ],
      "text/plain": [
       "    YearsExperience    Salary\n",
       "0               1.1   39343.0\n",
       "1               1.3   46205.0\n",
       "2               1.5   37731.0\n",
       "3               2.0   43525.0\n",
       "4               2.2   39891.0\n",
       "5               2.9   56642.0\n",
       "6               3.0   60150.0\n",
       "7               3.2   54445.0\n",
       "8               3.2   64445.0\n",
       "9               3.7   57189.0\n",
       "10              3.9   63218.0\n",
       "11              4.0   55794.0\n",
       "12              4.0   56957.0\n",
       "13              4.1   57081.0\n",
       "14              4.5   61111.0\n",
       "15              4.9   67938.0\n",
       "16              5.1   66029.0\n",
       "17              5.3   83088.0\n",
       "18              5.9   81363.0\n",
       "19              6.0   93940.0\n",
       "20              6.8   91738.0\n",
       "21              7.1   98273.0\n",
       "22              7.9  101302.0\n",
       "23              8.2  113812.0\n",
       "24              8.7  109431.0\n",
       "25              9.0  105582.0\n",
       "26              9.5  116969.0\n",
       "27              9.6  112635.0\n",
       "28             10.3  122391.0\n",
       "29             10.5  121872.0"
      ]
     },
     "execution_count": 41,
     "metadata": {},
     "output_type": "execute_result"
    }
   ],
   "source": [
    "data"
   ]
  }
 ],
 "metadata": {
  "kernelspec": {
   "display_name": "Python 3",
   "language": "python",
   "name": "python3"
  },
  "language_info": {
   "codemirror_mode": {
    "name": "ipython",
    "version": 3
   },
   "file_extension": ".py",
   "mimetype": "text/x-python",
   "name": "python",
   "nbconvert_exporter": "python",
   "pygments_lexer": "ipython3",
   "version": "3.8.8"
  }
 },
 "nbformat": 4,
 "nbformat_minor": 5
}
